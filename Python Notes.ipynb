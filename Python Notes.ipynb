{
 "cells": [
  {
   "cell_type": "markdown",
   "id": "2ab30c60-fbb5-4a73-8e21-cf42acbbbe6e",
   "metadata": {},
   "source": [
    "# **Python Notes**"
   ]
  },
  {
   "cell_type": "markdown",
   "id": "14c9466f-eadd-405c-bda4-8cd327c4fdcb",
   "metadata": {},
   "source": [
    "- ###### Ajit Mane ( ajitmane36@gmail.com, +918888288752) <--> [Linkedin Link](https://www.linkedin.com/in/ajitmane36)          <--> [Github Link](https://github.com/ajitmane36)"
   ]
  },
  {
   "cell_type": "markdown",
   "id": "17c56a76-cc62-40b9-8000-7d633ca7f374",
   "metadata": {},
   "source": [
    "### **<u>[1] Integers, Floats & Booleans<u>**"
   ]
  },
  {
   "cell_type": "markdown",
   "id": "0f42a0d4-200d-4afb-8c35-f06ebf4cd799",
   "metadata": {},
   "source": [
    "### Different Data Types"
   ]
  },
  {
   "cell_type": "markdown",
   "id": "da79110b-6299-4818-b7e8-aa29abd9601c",
   "metadata": {},
   "source": [
    "- Numeric - Numeric variables take values which are numbers like 9, 3.14, 0, Inf\n",
    "- String - String variables are used to store textual information\n",
    "- Boolean - Boolean variables have two modes either True or False. A definite judge of statements!\n",
    "- atetime - These variables are used to store date and time values such as 2020-08-01 12:23:54"
   ]
  },
  {
   "cell_type": "markdown",
   "id": "620d620c-e1ab-47aa-8db1-c690077a2282",
   "metadata": {},
   "source": [
    "#### <u>Integers and Floats<u>"
   ]
  },
  {
   "cell_type": "code",
   "execution_count": 8,
   "id": "eb33e9de-5a0b-46a3-8464-16d21c8a793e",
   "metadata": {},
   "outputs": [
    {
     "name": "stdout",
     "output_type": "stream",
     "text": [
      "3\n",
      "-3\n",
      "4000000.0\n",
      "5\n",
      "1.5\n",
      "3\n",
      "32\n",
      "105\n"
     ]
    }
   ],
   "source": [
    "# Basic Arithmetic\n",
    "# Addition\n",
    "print(2+1)\n",
    "# Subtraction\n",
    "print(2-5)\n",
    "# Scientific Notation for representing large numbers\n",
    "print(4E6)\n",
    "# Modulus\n",
    "print(5%6)\n",
    "# Division\n",
    "print(3/2)\n",
    "# Floor Division\n",
    "print(7//2)\n",
    "# Exponentiation\n",
    "print(2**5)\n",
    "# Order of Operations followed in Python\n",
    "print(2 + 10 * 10 + 3)"
   ]
  },
  {
   "cell_type": "markdown",
   "id": "38c316df-b5e3-4905-ad01-dc7fae99937a",
   "metadata": {},
   "source": [
    "#### <u>Variables<u>"
   ]
  },
  {
   "cell_type": "markdown",
   "id": "4eb85b7c-3cb8-445a-bbfa-0bc5b6306f01",
   "metadata": {},
   "source": [
    "- VARIABLES are entities which help us store information and retrieve it later.\n",
    "  - A variable with a fixed name can store information of nature like numeric, textual, boolean etc.\n",
    "  - A Python variable is a reserved memory location to store values. In other words, a variable in a python program gives data to the computer for processing.\n",
    "  - The type of data contained in a variable can be changed at user's will.\n",
    "  - A variable can be assigned different values and data types and it will store the last value assigned"
   ]
  },
  {
   "cell_type": "code",
   "execution_count": 9,
   "id": "b5a1c48c-13b4-4367-80ee-b0d48b797d18",
   "metadata": {},
   "outputs": [
    {
     "data": {
      "text/plain": [
       "5"
      ]
     },
     "execution_count": 9,
     "metadata": {},
     "output_type": "execute_result"
    }
   ],
   "source": [
    "# You can store numbers in variables.\n",
    "# The standard rule is you write the variable name followed by = sign and the value it will take\n",
    "\n",
    "x=5\n",
    "x"
   ]
  },
  {
   "cell_type": "code",
   "execution_count": 14,
   "id": "5c10f5a9-28cf-4fb3-98fc-c460f876664a",
   "metadata": {},
   "outputs": [
    {
     "data": {
      "text/plain": [
       "11.4"
      ]
     },
     "execution_count": 14,
     "metadata": {},
     "output_type": "execute_result"
    }
   ],
   "source": [
    "y=6.4\n",
    "z=x+y\n",
    "z"
   ]
  },
  {
   "cell_type": "code",
   "execution_count": 12,
   "id": "310b6eee-cb13-4874-8460-ac6c0d903f6d",
   "metadata": {},
   "outputs": [
    {
     "name": "stdout",
     "output_type": "stream",
     "text": [
      "0x2234f0c6a30\n"
     ]
    }
   ],
   "source": [
    "# Printing the memory address the variable z occupies\n",
    "print(hex(id(z)))"
   ]
  },
  {
   "cell_type": "code",
   "execution_count": 15,
   "id": "75876fd9-16b5-4ea4-b733-be1c1388731a",
   "metadata": {},
   "outputs": [
    {
     "name": "stdout",
     "output_type": "stream",
     "text": [
      "0.0\n"
     ]
    }
   ],
   "source": [
    "# Floor division\n",
    "z= x//y  #  Remember x=5, y=6.4\n",
    "print(z)"
   ]
  },
  {
   "cell_type": "markdown",
   "id": "d52653f6-f248-4c35-b804-b3c836a550cf",
   "metadata": {},
   "source": [
    "- The reason we get this result is because we are using \"floor\" division. The // operator (two forward slashes) is the mathematical equivalent of doing [0.75] which returns the greatest integer less than or equal to 0.75"
   ]
  },
  {
   "cell_type": "code",
   "execution_count": 16,
   "id": "1b55548f-5046-488e-895c-5756af305965",
   "metadata": {},
   "outputs": [
    {
     "name": "stdout",
     "output_type": "stream",
     "text": [
      "6.22e+23\n"
     ]
    }
   ],
   "source": [
    "# Storing large integer numbers\n",
    "avogadro = 6.22E23\n",
    "\n",
    "print(avogadro)"
   ]
  },
  {
   "cell_type": "markdown",
   "id": "cd496bd6-8337-441a-83b1-85af82a33bde",
   "metadata": {},
   "source": [
    "- Rules for naming a variable in Python\n",
    "  - Variables names must start with a letter or an underscore like _ product , product_\n",
    "  - The remainder of your variable name may consist of letters, numbers and underscores. spacy1, pyThon,machine_learning are some valid variable names\n",
    "  - Names are case sensitive. case_sensitive, CASE_SENSITIVE, and Case_Sensitive are each a different variable\n",
    "  - Names cannot begin with a number. Python will throw an error when you try to do so\n",
    "  - Names can not contain spaces, use _ instead\n",
    "  - Names can not contain any of these symbols: :'\",<>/?|\\!@#%^&*~-+\n",
    "  - It is considered best practice that names are lowercase with underscores\n",
    "  - Avoid using Python built-in keywords like list, str , def etc. We will talk more about such conventions later on"
   ]
  },
  {
   "cell_type": "markdown",
   "id": "9bea9fc3-7507-48e1-9ea4-4347f8b5eab1",
   "metadata": {},
   "source": [
    "##### <u>Boolean Variables<u>"
   ]
  },
  {
   "cell_type": "markdown",
   "id": "36278b36-1fb5-4803-a6a7-a772f5e1eae2",
   "metadata": {},
   "source": [
    "- Comparison Operators\n",
    "  - These operators will allow us to compare variables and output a Boolean value (True or False).\n",
    "Operator\tDescription\tExample\n",
    "a=3 and b=4.\n",
    "\n",
    "  - ==\tIf the values of two operands are equal, then the condition becomes true.\t(a == b) is not true.\n",
    "  - !=\tIf values of two operands are not equal, then condition becomes true.\t(a != b) is true\n",
    "  - (>) If the value of left operand is greater than the value of right operand, then condition becomes true.\t(a > b) is not true.\n",
    "  -  (<) If the value of left operand is less than the value of right operand, then condition becomes true.\t(a < b) is true.\n",
    "  \n",
    "  - (>=) - If the value of left operand is greater than or equal to the value of right operand, then condition becomes true.\t(a >= b) is not true.\n",
    "  \n",
    "  - (<=) If the value of left operand is less than or equal to the value of right operand, then condition becomes true.\t(a <= b) is true.\n",
    "- Python comes with Booleans (with predefined True and False displays that are basically just the integers 1 and 0). It also has a placeholder object called None.\n",
    "- Note that == is a comparison operator, while = is an assignment operator."
   ]
  },
  {
   "cell_type": "code",
   "execution_count": 17,
   "id": "cb3fd6d8-0d62-42a8-a649-83ccf4cc89de",
   "metadata": {},
   "outputs": [
    {
     "data": {
      "text/plain": [
       "False"
      ]
     },
     "execution_count": 17,
     "metadata": {},
     "output_type": "execute_result"
    }
   ],
   "source": [
    "2 == 3"
   ]
  },
  {
   "cell_type": "code",
   "execution_count": 18,
   "id": "581fcb73-fcd0-4bd5-871b-ed449ec513ad",
   "metadata": {},
   "outputs": [
    {
     "data": {
      "text/plain": [
       "True"
      ]
     },
     "execution_count": 18,
     "metadata": {},
     "output_type": "execute_result"
    }
   ],
   "source": [
    "2!=0"
   ]
  },
  {
   "cell_type": "markdown",
   "id": "92754508-d50e-4609-b077-b36cc2532f03",
   "metadata": {},
   "source": [
    ". "
   ]
  },
  {
   "cell_type": "markdown",
   "id": "984ddb5a-ce56-45f5-a77d-c2b2f99a1f1e",
   "metadata": {},
   "source": [
    "### **<u>[2] Introduction to Strings<u>**"
   ]
  },
  {
   "cell_type": "code",
   "execution_count": null,
   "id": "9a4b67fc-298c-478f-a577-a8e716fa6024",
   "metadata": {},
   "outputs": [],
   "source": []
  }
 ],
 "metadata": {
  "kernelspec": {
   "display_name": "Python 3 (ipykernel)",
   "language": "python",
   "name": "python3"
  },
  "language_info": {
   "codemirror_mode": {
    "name": "ipython",
    "version": 3
   },
   "file_extension": ".py",
   "mimetype": "text/x-python",
   "name": "python",
   "nbconvert_exporter": "python",
   "pygments_lexer": "ipython3",
   "version": "3.9.16"
  }
 },
 "nbformat": 4,
 "nbformat_minor": 5
}
